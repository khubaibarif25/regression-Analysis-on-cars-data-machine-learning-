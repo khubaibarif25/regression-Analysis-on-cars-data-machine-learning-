{
 "cells": [
  {
   "cell_type": "markdown",
   "id": "bd7500cb",
   "metadata": {},
   "source": [
    "# Machine Learning Project \n",
    "\n",
    "##  M.Khubaib Arif \n",
    "\n",
    "## We have a used vehicles dataset. We want to analyze price if we are changing other variables like Kilometres, Passengers, Doors, Highway etc."
   ]
  },
  {
   "cell_type": "code",
   "execution_count": 2,
   "id": "ef34dd0e",
   "metadata": {},
   "outputs": [],
   "source": [
    "# setup\n",
    "#from mlwpy import *\n",
    "\n",
    "import numpy as np\n",
    "import pandas as pd\n",
    "import seaborn as sns\n",
    "import statsmodels.api as sm\n",
    "import matplotlib.pyplot as plt\n",
    "import scipy as stats\n",
    "%matplotlib inline\n",
    "\n",
    "import sklearn.metrics as metrics\n",
    "from sklearn.model_selection import train_test_split\n",
    "from sklearn import neighbors\n",
    "from sklearn.naive_bayes import GaussianNB\n",
    "from sklearn.linear_model import LinearRegression\n",
    "from sklearn.linear_model import Ridge\n",
    "from sklearn.linear_model import Lasso\n",
    "from sklearn.svm import SVR\n",
    "from sklearn.preprocessing import PolynomialFeatures\n",
    "from sklearn.preprocessing import StandardScaler\n",
    "\n",
    "from sklearn.tree import DecisionTreeRegressor\n",
    "from sklearn.ensemble import BaggingRegressor\n",
    "from sklearn.ensemble import RandomForestRegressor\n",
    "from sklearn.ensemble import AdaBoostRegressor\n",
    "from sklearn.ensemble import GradientBoostingRegressor\n",
    "\n",
    "#%reload_ext memory_profiler\n"
   ]
  },
  {
   "cell_type": "code",
   "execution_count": 3,
   "id": "3c2d299a",
   "metadata": {},
   "outputs": [],
   "source": [
    "vehicles_data=pd.read_csv('Vehicles.csv')"
   ]
  },
  {
   "cell_type": "code",
   "execution_count": 4,
   "id": "c05e4104",
   "metadata": {
    "scrolled": true
   },
   "outputs": [
    {
     "data": {
      "text/html": [
       "<div>\n",
       "<style scoped>\n",
       "    .dataframe tbody tr th:only-of-type {\n",
       "        vertical-align: middle;\n",
       "    }\n",
       "\n",
       "    .dataframe tbody tr th {\n",
       "        vertical-align: top;\n",
       "    }\n",
       "\n",
       "    .dataframe thead th {\n",
       "        text-align: right;\n",
       "    }\n",
       "</style>\n",
       "<table border=\"1\" class=\"dataframe\">\n",
       "  <thead>\n",
       "    <tr style=\"text-align: right;\">\n",
       "      <th></th>\n",
       "      <th>Year</th>\n",
       "      <th>Make</th>\n",
       "      <th>Model</th>\n",
       "      <th>Kilometres</th>\n",
       "      <th>Body_Type</th>\n",
       "      <th>Engine</th>\n",
       "      <th>Transmission</th>\n",
       "      <th>Drivetrain</th>\n",
       "      <th>Exterior_Colour</th>\n",
       "      <th>Interior_Colour</th>\n",
       "      <th>Passengers</th>\n",
       "      <th>Doors</th>\n",
       "      <th>Fuel_Type</th>\n",
       "      <th>City</th>\n",
       "      <th>Highway</th>\n",
       "      <th>Price</th>\n",
       "    </tr>\n",
       "  </thead>\n",
       "  <tbody>\n",
       "    <tr>\n",
       "      <th>0</th>\n",
       "      <td>2014</td>\n",
       "      <td>Acura</td>\n",
       "      <td>RDX</td>\n",
       "      <td>290000</td>\n",
       "      <td>SUV</td>\n",
       "      <td>4</td>\n",
       "      <td>Automatic</td>\n",
       "      <td>AWD</td>\n",
       "      <td>Black</td>\n",
       "      <td>Black</td>\n",
       "      <td>5</td>\n",
       "      <td>5</td>\n",
       "      <td>Gas</td>\n",
       "      <td>11.336434</td>\n",
       "      <td>8.668992</td>\n",
       "      <td>11600</td>\n",
       "    </tr>\n",
       "    <tr>\n",
       "      <th>1</th>\n",
       "      <td>2014</td>\n",
       "      <td>Acura</td>\n",
       "      <td>RDX</td>\n",
       "      <td>158868</td>\n",
       "      <td>SUV</td>\n",
       "      <td>6</td>\n",
       "      <td>6 Speed Automatic</td>\n",
       "      <td>AWD</td>\n",
       "      <td>Silver</td>\n",
       "      <td>Black</td>\n",
       "      <td>5</td>\n",
       "      <td>5</td>\n",
       "      <td>Gas</td>\n",
       "      <td>10.700000</td>\n",
       "      <td>7.300000</td>\n",
       "      <td>17998</td>\n",
       "    </tr>\n",
       "    <tr>\n",
       "      <th>2</th>\n",
       "      <td>2016</td>\n",
       "      <td>Acura</td>\n",
       "      <td>MDX</td>\n",
       "      <td>226214</td>\n",
       "      <td>SUV</td>\n",
       "      <td>6</td>\n",
       "      <td>Automatic</td>\n",
       "      <td>AWD</td>\n",
       "      <td>White</td>\n",
       "      <td>Black</td>\n",
       "      <td>7</td>\n",
       "      <td>5</td>\n",
       "      <td>Gas</td>\n",
       "      <td>12.700000</td>\n",
       "      <td>9.100000</td>\n",
       "      <td>17999</td>\n",
       "    </tr>\n",
       "    <tr>\n",
       "      <th>3</th>\n",
       "      <td>2019</td>\n",
       "      <td>Acura</td>\n",
       "      <td>MDX</td>\n",
       "      <td>42081</td>\n",
       "      <td>SUV</td>\n",
       "      <td>6</td>\n",
       "      <td>9 Speed Automatic</td>\n",
       "      <td>AWD</td>\n",
       "      <td>White Diamond Pearl</td>\n",
       "      <td>Black</td>\n",
       "      <td>5</td>\n",
       "      <td>5</td>\n",
       "      <td>Gas</td>\n",
       "      <td>12.200000</td>\n",
       "      <td>9.000000</td>\n",
       "      <td>40588</td>\n",
       "    </tr>\n",
       "    <tr>\n",
       "      <th>4</th>\n",
       "      <td>2021</td>\n",
       "      <td>Acura</td>\n",
       "      <td>RDX</td>\n",
       "      <td>66960</td>\n",
       "      <td>SUV</td>\n",
       "      <td>4</td>\n",
       "      <td>10 Speed Automatic</td>\n",
       "      <td>AWD</td>\n",
       "      <td>Majestic Black Pearl</td>\n",
       "      <td>Black</td>\n",
       "      <td>5</td>\n",
       "      <td>5</td>\n",
       "      <td>Gas</td>\n",
       "      <td>11.000000</td>\n",
       "      <td>8.600000</td>\n",
       "      <td>41599</td>\n",
       "    </tr>\n",
       "    <tr>\n",
       "      <th>...</th>\n",
       "      <td>...</td>\n",
       "      <td>...</td>\n",
       "      <td>...</td>\n",
       "      <td>...</td>\n",
       "      <td>...</td>\n",
       "      <td>...</td>\n",
       "      <td>...</td>\n",
       "      <td>...</td>\n",
       "      <td>...</td>\n",
       "      <td>...</td>\n",
       "      <td>...</td>\n",
       "      <td>...</td>\n",
       "      <td>...</td>\n",
       "      <td>...</td>\n",
       "      <td>...</td>\n",
       "      <td>...</td>\n",
       "    </tr>\n",
       "    <tr>\n",
       "      <th>18642</th>\n",
       "      <td>2016</td>\n",
       "      <td>Volvo</td>\n",
       "      <td>XC90</td>\n",
       "      <td>145898</td>\n",
       "      <td>SUV</td>\n",
       "      <td>4</td>\n",
       "      <td>Automatic</td>\n",
       "      <td>AWD</td>\n",
       "      <td>Black</td>\n",
       "      <td>Brown</td>\n",
       "      <td>7</td>\n",
       "      <td>4</td>\n",
       "      <td>Gas</td>\n",
       "      <td>11.500000</td>\n",
       "      <td>9.500000</td>\n",
       "      <td>27998</td>\n",
       "    </tr>\n",
       "    <tr>\n",
       "      <th>18643</th>\n",
       "      <td>2015</td>\n",
       "      <td>Volvo</td>\n",
       "      <td>XC60</td>\n",
       "      <td>134000</td>\n",
       "      <td>SUV</td>\n",
       "      <td>4</td>\n",
       "      <td>Automatic</td>\n",
       "      <td>AWD</td>\n",
       "      <td>Black Stone</td>\n",
       "      <td>Black</td>\n",
       "      <td>5</td>\n",
       "      <td>4</td>\n",
       "      <td>Gas</td>\n",
       "      <td>13.000000</td>\n",
       "      <td>9.400000</td>\n",
       "      <td>18995</td>\n",
       "    </tr>\n",
       "    <tr>\n",
       "      <th>18644</th>\n",
       "      <td>2017</td>\n",
       "      <td>Volvo</td>\n",
       "      <td>XC90</td>\n",
       "      <td>67596</td>\n",
       "      <td>SUV</td>\n",
       "      <td>4</td>\n",
       "      <td>Automatic</td>\n",
       "      <td>AWD</td>\n",
       "      <td>White</td>\n",
       "      <td>Black</td>\n",
       "      <td>7</td>\n",
       "      <td>4</td>\n",
       "      <td>Gas</td>\n",
       "      <td>11.500000</td>\n",
       "      <td>9.600000</td>\n",
       "      <td>37990</td>\n",
       "    </tr>\n",
       "    <tr>\n",
       "      <th>18645</th>\n",
       "      <td>2018</td>\n",
       "      <td>Volvo</td>\n",
       "      <td>S90</td>\n",
       "      <td>74143</td>\n",
       "      <td>Sedan</td>\n",
       "      <td>4</td>\n",
       "      <td>Automatic</td>\n",
       "      <td>AWD</td>\n",
       "      <td>Onyx Black Metallic</td>\n",
       "      <td>Black</td>\n",
       "      <td>5</td>\n",
       "      <td>4</td>\n",
       "      <td>Gas</td>\n",
       "      <td>10.600000</td>\n",
       "      <td>7.600000</td>\n",
       "      <td>37980</td>\n",
       "    </tr>\n",
       "    <tr>\n",
       "      <th>18646</th>\n",
       "      <td>2012</td>\n",
       "      <td>Volvo</td>\n",
       "      <td>S60</td>\n",
       "      <td>145000</td>\n",
       "      <td>Sedan</td>\n",
       "      <td>4</td>\n",
       "      <td>Automatic</td>\n",
       "      <td>FWD</td>\n",
       "      <td>Brown</td>\n",
       "      <td>Black</td>\n",
       "      <td>5</td>\n",
       "      <td>4</td>\n",
       "      <td>Gas</td>\n",
       "      <td>10.500000</td>\n",
       "      <td>6.600000</td>\n",
       "      <td>11495</td>\n",
       "    </tr>\n",
       "  </tbody>\n",
       "</table>\n",
       "<p>18647 rows × 16 columns</p>\n",
       "</div>"
      ],
      "text/plain": [
       "       Year   Make Model  Kilometres Body_Type Engine        Transmission  \\\n",
       "0      2014  Acura   RDX      290000       SUV      4           Automatic   \n",
       "1      2014  Acura   RDX      158868       SUV      6   6 Speed Automatic   \n",
       "2      2016  Acura   MDX      226214       SUV      6           Automatic   \n",
       "3      2019  Acura   MDX       42081       SUV      6   9 Speed Automatic   \n",
       "4      2021  Acura   RDX       66960       SUV      4  10 Speed Automatic   \n",
       "...     ...    ...   ...         ...       ...    ...                 ...   \n",
       "18642  2016  Volvo  XC90      145898       SUV      4           Automatic   \n",
       "18643  2015  Volvo  XC60      134000       SUV      4           Automatic   \n",
       "18644  2017  Volvo  XC90       67596       SUV      4           Automatic   \n",
       "18645  2018  Volvo   S90       74143     Sedan      4           Automatic   \n",
       "18646  2012  Volvo   S60      145000     Sedan      4           Automatic   \n",
       "\n",
       "      Drivetrain       Exterior_Colour Interior_Colour  Passengers  Doors  \\\n",
       "0            AWD                 Black           Black           5      5   \n",
       "1            AWD                Silver           Black           5      5   \n",
       "2            AWD                 White           Black           7      5   \n",
       "3            AWD   White Diamond Pearl           Black           5      5   \n",
       "4            AWD  Majestic Black Pearl           Black           5      5   \n",
       "...          ...                   ...             ...         ...    ...   \n",
       "18642        AWD                 Black           Brown           7      4   \n",
       "18643        AWD           Black Stone           Black           5      4   \n",
       "18644        AWD                 White           Black           7      4   \n",
       "18645        AWD   Onyx Black Metallic           Black           5      4   \n",
       "18646        FWD                 Brown           Black           5      4   \n",
       "\n",
       "      Fuel_Type       City   Highway  Price  \n",
       "0           Gas  11.336434  8.668992  11600  \n",
       "1           Gas  10.700000  7.300000  17998  \n",
       "2           Gas  12.700000  9.100000  17999  \n",
       "3           Gas  12.200000  9.000000  40588  \n",
       "4           Gas  11.000000  8.600000  41599  \n",
       "...         ...        ...       ...    ...  \n",
       "18642       Gas  11.500000  9.500000  27998  \n",
       "18643       Gas  13.000000  9.400000  18995  \n",
       "18644       Gas  11.500000  9.600000  37990  \n",
       "18645       Gas  10.600000  7.600000  37980  \n",
       "18646       Gas  10.500000  6.600000  11495  \n",
       "\n",
       "[18647 rows x 16 columns]"
      ]
     },
     "execution_count": 4,
     "metadata": {},
     "output_type": "execute_result"
    }
   ],
   "source": [
    "vehicles_data"
   ]
  },
  {
   "cell_type": "code",
   "execution_count": 5,
   "id": "92ac2f08",
   "metadata": {},
   "outputs": [],
   "source": [
    "vehicles_data=vehicles_data.drop('Year', axis=1)"
   ]
  },
  {
   "cell_type": "code",
   "execution_count": 6,
   "id": "d02f1d10",
   "metadata": {},
   "outputs": [],
   "source": [
    "vehicles_data=vehicles_data.drop('Make', axis=1)"
   ]
  },
  {
   "cell_type": "code",
   "execution_count": 7,
   "id": "584d96fe",
   "metadata": {},
   "outputs": [],
   "source": [
    "vehicles_data=vehicles_data.drop('Model', axis=1)"
   ]
  },
  {
   "cell_type": "code",
   "execution_count": 8,
   "id": "f0b17a61",
   "metadata": {},
   "outputs": [],
   "source": [
    "vehicles_data=vehicles_data.drop('Body_Type', axis=1)"
   ]
  },
  {
   "cell_type": "code",
   "execution_count": 9,
   "id": "662dbcc3",
   "metadata": {},
   "outputs": [],
   "source": [
    "vehicles_data=vehicles_data.drop('Transmission', axis=1)"
   ]
  },
  {
   "cell_type": "code",
   "execution_count": 10,
   "id": "14b33e9e",
   "metadata": {},
   "outputs": [],
   "source": [
    "vehicles_data=vehicles_data.drop('Drivetrain', axis=1)"
   ]
  },
  {
   "cell_type": "code",
   "execution_count": 11,
   "id": "95ff98c2",
   "metadata": {},
   "outputs": [],
   "source": [
    "vehicles_data=vehicles_data.drop('Exterior_Colour', axis=1)"
   ]
  },
  {
   "cell_type": "code",
   "execution_count": 12,
   "id": "fc4b6d47",
   "metadata": {},
   "outputs": [],
   "source": [
    "vehicles_data=vehicles_data.drop('Interior_Colour', axis=1)"
   ]
  },
  {
   "cell_type": "code",
   "execution_count": 13,
   "id": "471a7dfa",
   "metadata": {},
   "outputs": [],
   "source": [
    "vehicles_data=vehicles_data.drop('Fuel_Type', axis=1) "
   ]
  },
  {
   "cell_type": "code",
   "execution_count": 14,
   "id": "8f71e40e",
   "metadata": {},
   "outputs": [],
   "source": [
    "vehicles_data=vehicles_data.drop('City', axis=1)"
   ]
  },
  {
   "cell_type": "code",
   "execution_count": 15,
   "id": "21716eac",
   "metadata": {},
   "outputs": [],
   "source": [
    "vehicles_data=vehicles_data.drop('Engine', axis=1) "
   ]
  },
  {
   "cell_type": "code",
   "execution_count": 16,
   "id": "cf61f54d",
   "metadata": {},
   "outputs": [
    {
     "data": {
      "text/html": [
       "<div>\n",
       "<style scoped>\n",
       "    .dataframe tbody tr th:only-of-type {\n",
       "        vertical-align: middle;\n",
       "    }\n",
       "\n",
       "    .dataframe tbody tr th {\n",
       "        vertical-align: top;\n",
       "    }\n",
       "\n",
       "    .dataframe thead th {\n",
       "        text-align: right;\n",
       "    }\n",
       "</style>\n",
       "<table border=\"1\" class=\"dataframe\">\n",
       "  <thead>\n",
       "    <tr style=\"text-align: right;\">\n",
       "      <th></th>\n",
       "      <th>Kilometres</th>\n",
       "      <th>Passengers</th>\n",
       "      <th>Doors</th>\n",
       "      <th>Highway</th>\n",
       "      <th>Price</th>\n",
       "    </tr>\n",
       "  </thead>\n",
       "  <tbody>\n",
       "    <tr>\n",
       "      <th>0</th>\n",
       "      <td>290000</td>\n",
       "      <td>5</td>\n",
       "      <td>5</td>\n",
       "      <td>8.668992</td>\n",
       "      <td>11600</td>\n",
       "    </tr>\n",
       "    <tr>\n",
       "      <th>1</th>\n",
       "      <td>158868</td>\n",
       "      <td>5</td>\n",
       "      <td>5</td>\n",
       "      <td>7.300000</td>\n",
       "      <td>17998</td>\n",
       "    </tr>\n",
       "    <tr>\n",
       "      <th>2</th>\n",
       "      <td>226214</td>\n",
       "      <td>7</td>\n",
       "      <td>5</td>\n",
       "      <td>9.100000</td>\n",
       "      <td>17999</td>\n",
       "    </tr>\n",
       "    <tr>\n",
       "      <th>3</th>\n",
       "      <td>42081</td>\n",
       "      <td>5</td>\n",
       "      <td>5</td>\n",
       "      <td>9.000000</td>\n",
       "      <td>40588</td>\n",
       "    </tr>\n",
       "    <tr>\n",
       "      <th>4</th>\n",
       "      <td>66960</td>\n",
       "      <td>5</td>\n",
       "      <td>5</td>\n",
       "      <td>8.600000</td>\n",
       "      <td>41599</td>\n",
       "    </tr>\n",
       "    <tr>\n",
       "      <th>...</th>\n",
       "      <td>...</td>\n",
       "      <td>...</td>\n",
       "      <td>...</td>\n",
       "      <td>...</td>\n",
       "      <td>...</td>\n",
       "    </tr>\n",
       "    <tr>\n",
       "      <th>18642</th>\n",
       "      <td>145898</td>\n",
       "      <td>7</td>\n",
       "      <td>4</td>\n",
       "      <td>9.500000</td>\n",
       "      <td>27998</td>\n",
       "    </tr>\n",
       "    <tr>\n",
       "      <th>18643</th>\n",
       "      <td>134000</td>\n",
       "      <td>5</td>\n",
       "      <td>4</td>\n",
       "      <td>9.400000</td>\n",
       "      <td>18995</td>\n",
       "    </tr>\n",
       "    <tr>\n",
       "      <th>18644</th>\n",
       "      <td>67596</td>\n",
       "      <td>7</td>\n",
       "      <td>4</td>\n",
       "      <td>9.600000</td>\n",
       "      <td>37990</td>\n",
       "    </tr>\n",
       "    <tr>\n",
       "      <th>18645</th>\n",
       "      <td>74143</td>\n",
       "      <td>5</td>\n",
       "      <td>4</td>\n",
       "      <td>7.600000</td>\n",
       "      <td>37980</td>\n",
       "    </tr>\n",
       "    <tr>\n",
       "      <th>18646</th>\n",
       "      <td>145000</td>\n",
       "      <td>5</td>\n",
       "      <td>4</td>\n",
       "      <td>6.600000</td>\n",
       "      <td>11495</td>\n",
       "    </tr>\n",
       "  </tbody>\n",
       "</table>\n",
       "<p>18647 rows × 5 columns</p>\n",
       "</div>"
      ],
      "text/plain": [
       "       Kilometres  Passengers  Doors   Highway  Price\n",
       "0          290000           5      5  8.668992  11600\n",
       "1          158868           5      5  7.300000  17998\n",
       "2          226214           7      5  9.100000  17999\n",
       "3           42081           5      5  9.000000  40588\n",
       "4           66960           5      5  8.600000  41599\n",
       "...           ...         ...    ...       ...    ...\n",
       "18642      145898           7      4  9.500000  27998\n",
       "18643      134000           5      4  9.400000  18995\n",
       "18644       67596           7      4  9.600000  37990\n",
       "18645       74143           5      4  7.600000  37980\n",
       "18646      145000           5      4  6.600000  11495\n",
       "\n",
       "[18647 rows x 5 columns]"
      ]
     },
     "execution_count": 16,
     "metadata": {},
     "output_type": "execute_result"
    }
   ],
   "source": [
    "vehicles_data"
   ]
  },
  {
   "cell_type": "code",
   "execution_count": 17,
   "id": "3b6d007c",
   "metadata": {},
   "outputs": [
    {
     "name": "stdout",
     "output_type": "stream",
     "text": [
      "(14997, 5)\n"
     ]
    }
   ],
   "source": [
    "vehicles_data.duplicated().sum() #Checking and dropping duplicates\n",
    "vehicles_data=vehicles_data.drop_duplicates(keep='first')\n",
    "print(vehicles_data.shape)\n",
    "vehicles_data.reset_index(inplace=True, drop=True)"
   ]
  },
  {
   "cell_type": "code",
   "execution_count": 18,
   "id": "a5c509d5",
   "metadata": {},
   "outputs": [
    {
     "name": "stdout",
     "output_type": "stream",
     "text": [
      "Kilometres    0\n",
      "Passengers    0\n",
      "Doors         0\n",
      "Highway       0\n",
      "Price         0\n",
      "dtype: int64\n"
     ]
    }
   ],
   "source": [
    "print(vehicles_data.isnull().sum()) #Checking null values"
   ]
  },
  {
   "cell_type": "code",
   "execution_count": 19,
   "id": "c1f27875",
   "metadata": {},
   "outputs": [
    {
     "data": {
      "text/html": [
       "<div>\n",
       "<style scoped>\n",
       "    .dataframe tbody tr th:only-of-type {\n",
       "        vertical-align: middle;\n",
       "    }\n",
       "\n",
       "    .dataframe tbody tr th {\n",
       "        vertical-align: top;\n",
       "    }\n",
       "\n",
       "    .dataframe thead th {\n",
       "        text-align: right;\n",
       "    }\n",
       "</style>\n",
       "<table border=\"1\" class=\"dataframe\">\n",
       "  <thead>\n",
       "    <tr style=\"text-align: right;\">\n",
       "      <th></th>\n",
       "      <th>Kilometres</th>\n",
       "      <th>Passengers</th>\n",
       "      <th>Doors</th>\n",
       "      <th>Highway</th>\n",
       "      <th>Price</th>\n",
       "    </tr>\n",
       "  </thead>\n",
       "  <tbody>\n",
       "    <tr>\n",
       "      <th>count</th>\n",
       "      <td>14997.000000</td>\n",
       "      <td>14997.000000</td>\n",
       "      <td>14997.000000</td>\n",
       "      <td>14997.000000</td>\n",
       "      <td>1.499700e+04</td>\n",
       "    </tr>\n",
       "    <tr>\n",
       "      <th>mean</th>\n",
       "      <td>70243.149363</td>\n",
       "      <td>5.127159</td>\n",
       "      <td>3.726945</td>\n",
       "      <td>8.328569</td>\n",
       "      <td>4.645263e+04</td>\n",
       "    </tr>\n",
       "    <tr>\n",
       "      <th>std</th>\n",
       "      <td>65741.484486</td>\n",
       "      <td>0.948687</td>\n",
       "      <td>0.741037</td>\n",
       "      <td>2.126834</td>\n",
       "      <td>5.496695e+04</td>\n",
       "    </tr>\n",
       "    <tr>\n",
       "      <th>min</th>\n",
       "      <td>0.000000</td>\n",
       "      <td>2.000000</td>\n",
       "      <td>2.000000</td>\n",
       "      <td>0.000000</td>\n",
       "      <td>2.000000e+03</td>\n",
       "    </tr>\n",
       "    <tr>\n",
       "      <th>25%</th>\n",
       "      <td>9950.000000</td>\n",
       "      <td>5.000000</td>\n",
       "      <td>4.000000</td>\n",
       "      <td>7.100000</td>\n",
       "      <td>2.299900e+04</td>\n",
       "    </tr>\n",
       "    <tr>\n",
       "      <th>50%</th>\n",
       "      <td>57684.000000</td>\n",
       "      <td>5.000000</td>\n",
       "      <td>4.000000</td>\n",
       "      <td>8.400000</td>\n",
       "      <td>3.544800e+04</td>\n",
       "    </tr>\n",
       "    <tr>\n",
       "      <th>75%</th>\n",
       "      <td>110742.000000</td>\n",
       "      <td>5.000000</td>\n",
       "      <td>4.000000</td>\n",
       "      <td>9.500000</td>\n",
       "      <td>5.688800e+04</td>\n",
       "    </tr>\n",
       "    <tr>\n",
       "      <th>max</th>\n",
       "      <td>480000.000000</td>\n",
       "      <td>15.000000</td>\n",
       "      <td>5.000000</td>\n",
       "      <td>42.800000</td>\n",
       "      <td>1.699998e+06</td>\n",
       "    </tr>\n",
       "  </tbody>\n",
       "</table>\n",
       "</div>"
      ],
      "text/plain": [
       "          Kilometres    Passengers         Doors       Highway         Price\n",
       "count   14997.000000  14997.000000  14997.000000  14997.000000  1.499700e+04\n",
       "mean    70243.149363      5.127159      3.726945      8.328569  4.645263e+04\n",
       "std     65741.484486      0.948687      0.741037      2.126834  5.496695e+04\n",
       "min         0.000000      2.000000      2.000000      0.000000  2.000000e+03\n",
       "25%      9950.000000      5.000000      4.000000      7.100000  2.299900e+04\n",
       "50%     57684.000000      5.000000      4.000000      8.400000  3.544800e+04\n",
       "75%    110742.000000      5.000000      4.000000      9.500000  5.688800e+04\n",
       "max    480000.000000     15.000000      5.000000     42.800000  1.699998e+06"
      ]
     },
     "execution_count": 19,
     "metadata": {},
     "output_type": "execute_result"
    }
   ],
   "source": [
    "vehicles_data.describe()"
   ]
  },
  {
   "cell_type": "code",
   "execution_count": 20,
   "id": "32266292",
   "metadata": {},
   "outputs": [
    {
     "data": {
      "text/plain": [
       "<Axes: >"
      ]
     },
     "execution_count": 20,
     "metadata": {},
     "output_type": "execute_result"
    },
    {
     "data": {
      "image/png": "[encoded data removed]",
      "text/plain": [
       "<Figure size 640x480 with 1 Axes>"
      ]
     },
     "metadata": {},
     "output_type": "display_data"
    }
   ],
   "source": [
    "vehicles_data.boxplot()"
   ]
  },
  {
   "cell_type": "code",
   "execution_count": 21,
   "id": "d4dcb291",
   "metadata": {},
   "outputs": [
    {
     "data": {
      "text/plain": [
       "(14997, 5)"
      ]
     },
     "execution_count": 21,
     "metadata": {},
     "output_type": "execute_result"
    }
   ],
   "source": [
    "vehicles_data.shape"
   ]
  },
  {
   "cell_type": "code",
   "execution_count": 22,
   "id": "41f8b4a4",
   "metadata": {},
   "outputs": [
    {
     "data": {
      "text/plain": [
       "Index(['Kilometres', 'Passengers', 'Doors', 'Highway', 'Price'], dtype='object')"
      ]
     },
     "execution_count": 22,
     "metadata": {},
     "output_type": "execute_result"
    }
   ],
   "source": [
    "vehicles_data.columns"
   ]
  },
  {
   "cell_type": "code",
   "execution_count": 23,
   "id": "7e6f8b9d",
   "metadata": {},
   "outputs": [
    {
     "data": {
      "text/html": [
       "<div>\n",
       "<style scoped>\n",
       "    .dataframe tbody tr th:only-of-type {\n",
       "        vertical-align: middle;\n",
       "    }\n",
       "\n",
       "    .dataframe tbody tr th {\n",
       "        vertical-align: top;\n",
       "    }\n",
       "\n",
       "    .dataframe thead th {\n",
       "        text-align: right;\n",
       "    }\n",
       "</style>\n",
       "<table border=\"1\" class=\"dataframe\">\n",
       "  <thead>\n",
       "    <tr style=\"text-align: right;\">\n",
       "      <th></th>\n",
       "      <th>Kilometres</th>\n",
       "      <th>Passengers</th>\n",
       "      <th>Doors</th>\n",
       "      <th>Highway</th>\n",
       "    </tr>\n",
       "  </thead>\n",
       "  <tbody>\n",
       "    <tr>\n",
       "      <th>0</th>\n",
       "      <td>3.342854</td>\n",
       "      <td>-0.134041</td>\n",
       "      <td>1.717994</td>\n",
       "      <td>0.160066</td>\n",
       "    </tr>\n",
       "    <tr>\n",
       "      <th>1</th>\n",
       "      <td>1.348126</td>\n",
       "      <td>-0.134041</td>\n",
       "      <td>1.717994</td>\n",
       "      <td>-0.483631</td>\n",
       "    </tr>\n",
       "  </tbody>\n",
       "</table>\n",
       "</div>"
      ],
      "text/plain": [
       "   Kilometres  Passengers     Doors   Highway\n",
       "0    3.342854   -0.134041  1.717994  0.160066\n",
       "1    1.348126   -0.134041  1.717994 -0.483631"
      ]
     },
     "execution_count": 23,
     "metadata": {},
     "output_type": "execute_result"
    }
   ],
   "source": [
    "ivs=vehicles_data[['Kilometres', 'Passengers', 'Doors', 'Highway']]\n",
    "scaler= StandardScaler()\n",
    "scaler.fit(ivs)\n",
    "ivs_encoded=scaler.transform(ivs)\n",
    "ivs_encoded= pd.DataFrame(ivs_encoded, columns=['Kilometres', 'Passengers', 'Doors', 'Highway'])\n",
    "ivs_encoded.head(2)"
   ]
  },
  {
   "cell_type": "code",
   "execution_count": 24,
   "id": "6ac4d4ce",
   "metadata": {},
   "outputs": [
    {
     "name": "stdout",
     "output_type": "stream",
     "text": [
      "(14997, 1)\n"
     ]
    },
    {
     "data": {
      "text/html": [
       "<div>\n",
       "<style scoped>\n",
       "    .dataframe tbody tr th:only-of-type {\n",
       "        vertical-align: middle;\n",
       "    }\n",
       "\n",
       "    .dataframe tbody tr th {\n",
       "        vertical-align: top;\n",
       "    }\n",
       "\n",
       "    .dataframe thead th {\n",
       "        text-align: right;\n",
       "    }\n",
       "</style>\n",
       "<table border=\"1\" class=\"dataframe\">\n",
       "  <thead>\n",
       "    <tr style=\"text-align: right;\">\n",
       "      <th></th>\n",
       "      <th>Price</th>\n",
       "    </tr>\n",
       "  </thead>\n",
       "  <tbody>\n",
       "    <tr>\n",
       "      <th>0</th>\n",
       "      <td>-0.634086</td>\n",
       "    </tr>\n",
       "    <tr>\n",
       "      <th>1</th>\n",
       "      <td>-0.517685</td>\n",
       "    </tr>\n",
       "  </tbody>\n",
       "</table>\n",
       "</div>"
      ],
      "text/plain": [
       "      Price\n",
       "0 -0.634086\n",
       "1 -0.517685"
      ]
     },
     "execution_count": 24,
     "metadata": {},
     "output_type": "execute_result"
    }
   ],
   "source": [
    "dv=np.array(vehicles_data['Price']).reshape(-1,1)\n",
    "scaler=StandardScaler()\n",
    "scaler.fit(dv)\n",
    "dv_encoded=scaler.transform(dv)\n",
    "dv_encoded= pd.DataFrame(dv_encoded, columns=['Price'])\n",
    "print(dv_encoded.shape)\n",
    "dv_encoded.head(2)"
   ]
  },
  {
   "cell_type": "code",
   "execution_count": 25,
   "id": "cf3e8a1b",
   "metadata": {},
   "outputs": [],
   "source": [
    "ivs_train, ivs_test, dv_train, dv_test=train_test_split(ivs_encoded, dv_encoded, test_size=0.2) #spliting the data"
   ]
  },
  {
   "cell_type": "code",
   "execution_count": 26,
   "id": "4b048931",
   "metadata": {},
   "outputs": [
    {
     "name": "stdout",
     "output_type": "stream",
     "text": [
      "The data shape is  (14997, 5)\n",
      "The ivs_train shape is (11997, 4)\n",
      "The ivs_test shape is (3000, 4)\n",
      "The dv_train shape is (11997, 1)\n",
      "The dv_test shape is (3000, 1)\n"
     ]
    }
   ],
   "source": [
    "print('The data shape is ', vehicles_data.shape)\n",
    "print('The ivs_train shape is', ivs_train.shape)\n",
    "print('The ivs_test shape is', ivs_test.shape)\n",
    "print('The dv_train shape is', dv_train.shape)\n",
    "print('The dv_test shape is', dv_test.shape)"
   ]
  },
  {
   "cell_type": "markdown",
   "id": "90f733b8",
   "metadata": {},
   "source": [
    "## Model Evaluation"
   ]
  },
  {
   "cell_type": "code",
   "execution_count": 1,
   "id": "b8018d60",
   "metadata": {},
   "outputs": [],
   "source": [
    "MAE_list=[]\n",
    "MSE_list=[]\n",
    "RMSE_list=[]\n",
    "R_Squared_list=[]\n",
    "\n",
    "def model_evaluation(dv_test, predictions):\n",
    "    mae=metrics.mean_absolute_error(dv_test, predictions)\n",
    "    mse=metrics.mean_squared_error(dv_test, predictions)\n",
    "    rmse=np.sqrt(mse)\n",
    "    r2=metrics.r2_score(dv_test, predictions)\n",
    "    MAE_list.append(mae)\n",
    "    MSE_list.append(mse)\n",
    "    RMSE_list.append(rmse)\n",
    "    R_Squared_list.append(r2)\n",
    "    print(\"Results of sklearn.metrics: \\n\")\n",
    "    print(\"MAE:\",mae)\n",
    "    print(\"MSE:\", mse)\n",
    "    print(\"RMSE:\", rmse)\n",
    "    print(\"R-Squared:\", r2)"
   ]
  },
  {
   "cell_type": "markdown",
   "id": "f9c8ade3",
   "metadata": {},
   "source": [
    "## Multiple Linear Regression"
   ]
  },
  {
   "cell_type": "code",
   "execution_count": 28,
   "id": "09fe9208",
   "metadata": {},
   "outputs": [
    {
     "data": {
      "text/html": [
       "<table class=\"simpletable\">\n",
       "<caption>OLS Regression Results</caption>\n",
       "<tr>\n",
       "  <th>Dep. Variable:</th>          <td>Price</td>      <th>  R-squared (uncentered):</th>      <td>   0.306</td> \n",
       "</tr>\n",
       "<tr>\n",
       "  <th>Model:</th>                   <td>OLS</td>       <th>  Adj. R-squared (uncentered):</th> <td>   0.306</td> \n",
       "</tr>\n",
       "<tr>\n",
       "  <th>Method:</th>             <td>Least Squares</td>  <th>  F-statistic:       </th>          <td>   1323.</td> \n",
       "</tr>\n",
       "<tr>\n",
       "  <th>Date:</th>             <td>Sat, 18 May 2024</td> <th>  Prob (F-statistic):</th>           <td>  0.00</td>  \n",
       "</tr>\n",
       "<tr>\n",
       "  <th>Time:</th>                 <td>13:19:29</td>     <th>  Log-Likelihood:    </th>          <td> -14579.</td> \n",
       "</tr>\n",
       "<tr>\n",
       "  <th>No. Observations:</th>      <td> 11997</td>      <th>  AIC:               </th>          <td>2.917e+04</td>\n",
       "</tr>\n",
       "<tr>\n",
       "  <th>Df Residuals:</th>          <td> 11993</td>      <th>  BIC:               </th>          <td>2.920e+04</td>\n",
       "</tr>\n",
       "<tr>\n",
       "  <th>Df Model:</th>              <td>     4</td>      <th>                     </th>              <td> </td>    \n",
       "</tr>\n",
       "<tr>\n",
       "  <th>Covariance Type:</th>      <td>nonrobust</td>    <th>                     </th>              <td> </td>    \n",
       "</tr>\n",
       "</table>\n",
       "<table class=\"simpletable\">\n",
       "<tr>\n",
       "       <td></td>         <th>coef</th>     <th>std err</th>      <th>t</th>      <th>P>|t|</th>  <th>[0.025</th>    <th>0.975]</th>  \n",
       "</tr>\n",
       "<tr>\n",
       "  <th>Kilometres</th> <td>   -0.2873</td> <td>    0.008</td> <td>  -37.373</td> <td> 0.000</td> <td>   -0.302</td> <td>   -0.272</td>\n",
       "</tr>\n",
       "<tr>\n",
       "  <th>Passengers</th> <td>   -0.1868</td> <td>    0.008</td> <td>  -22.852</td> <td> 0.000</td> <td>   -0.203</td> <td>   -0.171</td>\n",
       "</tr>\n",
       "<tr>\n",
       "  <th>Doors</th>      <td>   -0.1089</td> <td>    0.008</td> <td>  -13.194</td> <td> 0.000</td> <td>   -0.125</td> <td>   -0.093</td>\n",
       "</tr>\n",
       "<tr>\n",
       "  <th>Highway</th>    <td>    0.3015</td> <td>    0.008</td> <td>   38.485</td> <td> 0.000</td> <td>    0.286</td> <td>    0.317</td>\n",
       "</tr>\n",
       "</table>\n",
       "<table class=\"simpletable\">\n",
       "<tr>\n",
       "  <th>Omnibus:</th>       <td>19469.514</td> <th>  Durbin-Watson:     </th>   <td>   2.001</td>  \n",
       "</tr>\n",
       "<tr>\n",
       "  <th>Prob(Omnibus):</th>  <td> 0.000</td>   <th>  Jarque-Bera (JB):  </th> <td>22383990.427</td>\n",
       "</tr>\n",
       "<tr>\n",
       "  <th>Skew:</th>           <td>10.515</td>   <th>  Prob(JB):          </th>   <td>    0.00</td>  \n",
       "</tr>\n",
       "<tr>\n",
       "  <th>Kurtosis:</th>       <td>213.563</td>  <th>  Cond. No.          </th>   <td>    1.65</td>  \n",
       "</tr>\n",
       "</table><br/><br/>Notes:<br/>[1] R² is computed without centering (uncentered) since the model does not contain a constant.<br/>[2] Standard Errors assume that the covariance matrix of the errors is correctly specified."
      ],
      "text/plain": [
       "<class 'statsmodels.iolib.summary.Summary'>\n",
       "\"\"\"\n",
       "                                 OLS Regression Results                                \n",
       "=======================================================================================\n",
       "Dep. Variable:                  Price   R-squared (uncentered):                   0.306\n",
       "Model:                            OLS   Adj. R-squared (uncentered):              0.306\n",
       "Method:                 Least Squares   F-statistic:                              1323.\n",
       "Date:                Sat, 18 May 2024   Prob (F-statistic):                        0.00\n",
       "Time:                        13:19:29   Log-Likelihood:                         -14579.\n",
       "No. Observations:               11997   AIC:                                  2.917e+04\n",
       "Df Residuals:                   11993   BIC:                                  2.920e+04\n",
       "Df Model:                           4                                                  \n",
       "Covariance Type:            nonrobust                                                  \n",
       "==============================================================================\n",
       "                 coef    std err          t      P>|t|      [0.025      0.975]\n",
       "------------------------------------------------------------------------------\n",
       "Kilometres    -0.2873      0.008    -37.373      0.000      -0.302      -0.272\n",
       "Passengers    -0.1868      0.008    -22.852      0.000      -0.203      -0.171\n",
       "Doors         -0.1089      0.008    -13.194      0.000      -0.125      -0.093\n",
       "Highway        0.3015      0.008     38.485      0.000       0.286       0.317\n",
       "==============================================================================\n",
       "Omnibus:                    19469.514   Durbin-Watson:                   2.001\n",
       "Prob(Omnibus):                  0.000   Jarque-Bera (JB):         22383990.427\n",
       "Skew:                          10.515   Prob(JB):                         0.00\n",
       "Kurtosis:                     213.563   Cond. No.                         1.65\n",
       "==============================================================================\n",
       "\n",
       "Notes:\n",
       "[1] R² is computed without centering (uncentered) since the model does not contain a constant.\n",
       "[2] Standard Errors assume that the covariance matrix of the errors is correctly specified.\n",
       "\"\"\""
      ]
     },
     "execution_count": 28,
     "metadata": {},
     "output_type": "execute_result"
    }
   ],
   "source": [
    "regression_model=sm.OLS(dv_train, ivs_train)\n",
    "results= regression_model.fit()\n",
    "results.summary()"
   ]
  },
  {
   "cell_type": "code",
   "execution_count": 29,
   "id": "e638c183",
   "metadata": {},
   "outputs": [
    {
     "name": "stdout",
     "output_type": "stream",
     "text": [
      "0.30612217061534874\n",
      "0.3058907430061151\n",
      "Kilometres    2.813724e-289\n",
      "Passengers    3.569703e-113\n",
      "Doors          1.786114e-39\n",
      "Highway       1.210264e-305\n",
      "dtype: float64\n"
     ]
    }
   ],
   "source": [
    "print(results.rsquared)\n",
    "print(results.rsquared_adj)\n",
    "print(results.pvalues)"
   ]
  },
  {
   "cell_type": "code",
   "execution_count": 30,
   "id": "33062828",
   "metadata": {},
   "outputs": [],
   "source": [
    "predictions=results.predict(ivs_test)"
   ]
  },
  {
   "cell_type": "code",
   "execution_count": 31,
   "id": "ba00f07b",
   "metadata": {},
   "outputs": [
    {
     "name": "stdout",
     "output_type": "stream",
     "text": [
      "Results of sklearn.metrics: \n",
      "\n",
      "MAE: 0.3745041401176569\n",
      "MSE: 0.8608022074117744\n",
      "RMSE: 0.9277942699821844\n",
      "R-Squared: 0.2607093623766684\n"
     ]
    }
   ],
   "source": [
    "model_evaluation(dv_test, predictions)"
   ]
  },
  {
   "cell_type": "markdown",
   "id": "24ecb131",
   "metadata": {},
   "source": [
    "## KNN Regression"
   ]
  },
  {
   "cell_type": "code",
   "execution_count": 32,
   "id": "0f26b9da",
   "metadata": {},
   "outputs": [],
   "source": [
    "knn=neighbors.KNeighborsRegressor(n_neighbors=3)\n",
    "fit=knn.fit(ivs_train, dv_train)\n",
    "predictions=fit.predict(ivs_test)"
   ]
  },
  {
   "cell_type": "code",
   "execution_count": 33,
   "id": "5fcf5960",
   "metadata": {},
   "outputs": [
    {
     "name": "stdout",
     "output_type": "stream",
     "text": [
      "Results of sklearn.metrics: \n",
      "\n",
      "MAE: 0.22371479128566985\n",
      "MSE: 0.3496764364515004\n",
      "RMSE: 0.5913344539695793\n",
      "R-Squared: 0.699684185937012\n"
     ]
    }
   ],
   "source": [
    "model_evaluation(dv_test, predictions)"
   ]
  },
  {
   "cell_type": "markdown",
   "id": "b331fa78",
   "metadata": {},
   "source": [
    "## Random Forest Regression"
   ]
  },
  {
   "cell_type": "code",
   "execution_count": 34,
   "id": "83187c0c",
   "metadata": {},
   "outputs": [
    {
     "name": "stdout",
     "output_type": "stream",
     "text": [
      "Results of sklearn.metrics: \n",
      "\n",
      "MAE: 0.30411279201750185\n",
      "MSE: 0.8775147690217561\n",
      "RMSE: 0.9367575828472146\n",
      "R-Squared: 0.24635596014026795\n"
     ]
    },
    {
     "name": "stderr",
     "output_type": "stream",
     "text": [
      "C:\\Users\\Khubab Arif\\AppData\\Local\\Temp\\ipykernel_13704\\914016960.py:3: DataConversionWarning: A column-vector y was passed when a 1d array was expected. Please change the shape of y to (n_samples,), for example using ravel().\n",
      "  rfr.fit(ivs_train, dv_train)\n"
     ]
    }
   ],
   "source": [
    "rfr=RandomForestRegressor(n_estimators=30,\n",
    "                         max_features=3, bootstrap=True, max_samples=16)\n",
    "rfr.fit(ivs_train, dv_train)\n",
    "predictions=rfr.predict(ivs_test)\n",
    "model_evaluation(dv_test, predictions)"
   ]
  },
  {
   "cell_type": "markdown",
   "id": "ab94235e",
   "metadata": {},
   "source": [
    "## RMSE of KNN is lowest among all models. This shows that we should go for KNN Regression."
   ]
  },
  {
   "cell_type": "code",
   "execution_count": null,
   "id": "d389fb8d",
   "metadata": {},
   "outputs": [],
   "source": []
  },
  {
   "cell_type": "code",
   "execution_count": null,
   "id": "4608ca45",
   "metadata": {},
   "outputs": [],
   "source": []
  }
 ],
 "metadata": {
  "kernelspec": {
   "display_name": "Python 3 (ipykernel)",
   "language": "python",
   "name": "python3"
  },
  "language_info": {
   "codemirror_mode": {
    "name": "ipython",
    "version": 3
   },
   "file_extension": ".py",
   "mimetype": "text/x-python",
   "name": "python",
   "nbconvert_exporter": "python",
   "pygments_lexer": "ipython3",
   "version": "3.10.9"
  }
 },
 "nbformat": 4,
 "nbformat_minor": 5
}
